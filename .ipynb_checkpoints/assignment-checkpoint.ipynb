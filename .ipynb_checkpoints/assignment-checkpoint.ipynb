{
 "cells": [
  {
   "cell_type": "code",
   "execution_count": 2,
   "metadata": {
    "ExecuteTime": {
     "end_time": "2017-11-21T02:07:33.514456",
     "start_time": "2017-11-21T02:07:33.510408"
    }
   },
   "outputs": [],
   "source": [
    "import pandas as pd"
   ]
  },
  {
   "cell_type": "code",
   "execution_count": 3,
   "metadata": {},
   "outputs": [],
   "source": [
    "data_path = 'data.csv'"
   ]
  },
  {
   "cell_type": "markdown",
   "metadata": {},
   "source": [
    "Читай данные с помощью __`read_csv()`__ и погнали!"
   ]
  },
  {
   "cell_type": "code",
   "execution_count": 5,
   "metadata": {
    "ExecuteTime": {
     "end_time": "2017-11-21T02:07:33.528688",
     "start_time": "2017-11-21T02:07:33.517863"
    }
   },
   "outputs": [],
   "source": [
    "df = pd.read_csv('data.csv')"
   ]
  },
  {
   "cell_type": "markdown",
   "metadata": {},
   "source": [
    "<div class=\"panel panel-info\" style=\"margin: 50px 0 0 0\">\n",
    "    <div class=\"panel-heading\">\n",
    "        <h3 class=\"panel-title\">Задание 1: Причесываем колонки</h3> \n",
    "    </div>\n",
    "</div>\n",
    "\n",
    "Окей, мы прочитали данные, но с ними еще не совсем удобно работать!\n",
    "\n",
    "Прежде всего, __переименуй колонки__ так, чтобы они все были на старом-добром английском языке. Обычно предпочитают называть их __`likeThat`, `LikeThat`__ или __`like_that`__. Выбери что-то одно."
   ]
  },
  {
   "cell_type": "code",
   "execution_count": 6,
   "metadata": {},
   "outputs": [
    {
     "data": {
      "text/plain": [
       "Index(['Возраст', 'Пол', 'Состоит в браке', 'Иждивенцы', 'Доход',\n",
       "       'Опыт работы', 'Срок проживания', 'Недвижимость(кв.м.)',\n",
       "       'Месячный платеж', 'Благонадежный заемщик'],\n",
       "      dtype='object')"
      ]
     },
     "execution_count": 6,
     "metadata": {},
     "output_type": "execute_result"
    }
   ],
   "source": [
    "df.columns"
   ]
  },
  {
   "cell_type": "code",
   "execution_count": 10,
   "metadata": {},
   "outputs": [],
   "source": [
    "newColumns = ['age', 'sex', 'maritalStatus', 'dependents', 'income', 'workingExp', 'termOfStay', 'property', 'payment', 'reliable']"
   ]
  },
  {
   "cell_type": "code",
   "execution_count": 11,
   "metadata": {},
   "outputs": [
    {
     "data": {
      "text/plain": [
       "Index(['age', 'sex', 'maritalStatus', 'dependents', 'income', 'workingExp',\n",
       "       'termOfStay', 'property', 'payment', 'reliable'],\n",
       "      dtype='object')"
      ]
     },
     "execution_count": 11,
     "metadata": {},
     "output_type": "execute_result"
    }
   ],
   "source": [
    "df.columns = newColumns\n",
    "df.columns"
   ]
  },
  {
   "cell_type": "markdown",
   "metadata": {},
   "source": [
    "<div class=\"panel panel-info\" style=\"margin: 50px 0 0 0\">\n",
    "    <div class=\"panel-heading\">\n",
    "        <h3 class=\"panel-title\">Задание 2: Язык, понятный компуктору</h3> \n",
    "    </div>\n",
    "</div>\n",
    "\n",
    "Все русские слова - вон! Да, и значения в колонках в том числе. \n",
    "\n",
    "Замените все значения в колонках пола, признака состояния в браке и благонадежности на нули и единицы, раз уж уникальных значений в них не больше двух. __Подсказка:__ используй метод __`map()`__.\n",
    "\n",
    "Убедитесь, что у вас все получилось, вызвав __`value_counts()`__ у соответствующих колоночек. А потом и проверьте тип данных с помощью __`info()`__"
   ]
  },
  {
   "cell_type": "code",
   "execution_count": 12,
   "metadata": {},
   "outputs": [],
   "source": [
    "df.sex = df.sex.map({'мужской': 1, 'женский': 0})\n",
    "df.maritalStatus = df.maritalStatus.map({'Да': 1, 'Нет': 0})\n",
    "df.reliable = df.reliable.map({'Да': 1, 'Нет': 0})"
   ]
  },
  {
   "cell_type": "markdown",
   "metadata": {
    "ExecuteTime": {
     "end_time": "2017-11-15T01:04:37.820238",
     "start_time": "2017-11-15T01:04:37.803098"
    }
   },
   "source": [
    "<div class=\"panel panel-warning\" style=\"margin: 0 0 0 0\">\n",
    "    <div class=\"panel-heading\">\n",
    "        <h3 class=\"panel-title\">Бонус!</h3> \n",
    "    </div>\n",
    "</div>\n",
    "\n",
    "Удали строчку с __NaN__! Найди ее! И удали!"
   ]
  },
  {
   "cell_type": "code",
   "execution_count": 16,
   "metadata": {},
   "outputs": [],
   "source": [
    "df[df.isnull().any(axis=1)]\n",
    "df.dropna(inplace=True)"
   ]
  },
  {
   "cell_type": "code",
   "execution_count": 17,
   "metadata": {},
   "outputs": [
    {
     "data": {
      "text/plain": [
       "<bound method DataFrame.info of       age  sex  maritalStatus  dependents   income  workingExp  termOfStay  \\\n",
       "0    28.0  0.0            1.0         0.0   9000.0         9.0         7.0   \n",
       "1    39.0  1.0            1.0         1.0  13500.0        17.0         6.0   \n",
       "2    31.0  1.0            0.0         2.0   7000.0        11.0         3.0   \n",
       "3    34.0  1.0            0.0         1.0  10200.0        15.0         2.0   \n",
       "4    46.0  0.0            1.0         2.0   8500.0        20.0         8.0   \n",
       "..    ...  ...            ...         ...      ...         ...         ...   \n",
       "994  35.0  1.0            0.0         2.0  31000.0        17.0         6.0   \n",
       "995  37.0  0.0            1.0         1.0   3600.0         8.0        15.0   \n",
       "996  40.0  0.0            1.0         0.0   8500.0         8.5         6.0   \n",
       "997  39.0  0.0            1.0         0.0  17500.0        21.0         6.0   \n",
       "998  40.0  0.0            1.0         0.0  26800.0        20.0         5.0   \n",
       "\n",
       "     property  payment  reliable  \n",
       "0         0.0   3946.0       0.0  \n",
       "1         0.0   2460.0       1.0  \n",
       "2         0.0   3126.0       0.0  \n",
       "3        41.0   3280.0       1.0  \n",
       "4         0.0   3348.0       1.0  \n",
       "..        ...      ...       ...  \n",
       "994       0.0   4715.0       1.0  \n",
       "995       0.0   2409.0       0.0  \n",
       "996      42.0   2460.0       1.0  \n",
       "997       0.0   3331.0       1.0  \n",
       "998      45.0   2614.0       1.0  \n",
       "\n",
       "[999 rows x 10 columns]>"
      ]
     },
     "execution_count": 17,
     "metadata": {},
     "output_type": "execute_result"
    }
   ],
   "source": []
  },
  {
   "cell_type": "markdown",
   "metadata": {},
   "source": [
    "<div class=\"panel panel-info\" style=\"margin: 50px 0 0 0\">\n",
    "    <div class=\"panel-heading\">\n",
    "        <h3 class=\"panel-title\">Задание 3: Новые колонки</h3> \n",
    "    </div>\n",
    "</div>\n",
    "\n",
    "Помнишь еще, как создаются новые колонки? Ну ничего, погуглишь.\n",
    "\n",
    "1. Сделай новую колонку __а-ля \"удар по бюджету\"__, значения в которой равны доле месячного платежа к величине дохода.\n",
    "2. Посчитай в новой колонке __а-ля \"размер семьи\"__, сколько у заемщика человек в семье, то есть количество иждивенцев + муж/жена (если таковые имеются). \n",
    "2. Считая, что деньги в семье распределяются абсолютно честно, сделай новую колонку __а-ля \"моя доля\"__, значения в которой равны доходу (чистому, учитывая ежемесячный платеж!), деленному на количество человек в семье.\n",
    "\n",
    "Вызови __.head()__ и полюбуйся в конце на результаты своей работы."
   ]
  },
  {
   "cell_type": "code",
   "execution_count": 18,
   "metadata": {},
   "outputs": [],
   "source": [
    "df['expense'] = df.payment / df.income\n",
    "df['members']= df.maritalStatus +df.dependents\n",
    "df['pie']=(df.income - df.payment)/ df.members"
   ]
  },
  {
   "cell_type": "markdown",
   "metadata": {
    "ExecuteTime": {
     "end_time": "2017-11-15T01:04:37.820238",
     "start_time": "2017-11-15T01:04:37.803098"
    }
   },
   "source": [
    "<div class=\"panel panel-warning\" style=\"margin: 0 0 0 0\">\n",
    "    <div class=\"panel-heading\">\n",
    "        <h3 class=\"panel-title\">Бонус!</h3> \n",
    "    </div>\n",
    "</div>\n",
    "\n",
    "Удали один какой-нибудь ненужный столбец, если хочешь. Какой-нибудь бесполезный. Но лучше не надо."
   ]
  },
  {
   "cell_type": "code",
   "execution_count": 19,
   "metadata": {},
   "outputs": [
    {
     "data": {
      "text/plain": [
       "<bound method DataFrame.info of       age  sex  maritalStatus  dependents   income  workingExp  termOfStay  \\\n",
       "0    28.0  0.0            1.0         0.0   9000.0         9.0         7.0   \n",
       "1    39.0  1.0            1.0         1.0  13500.0        17.0         6.0   \n",
       "2    31.0  1.0            0.0         2.0   7000.0        11.0         3.0   \n",
       "3    34.0  1.0            0.0         1.0  10200.0        15.0         2.0   \n",
       "4    46.0  0.0            1.0         2.0   8500.0        20.0         8.0   \n",
       "..    ...  ...            ...         ...      ...         ...         ...   \n",
       "994  35.0  1.0            0.0         2.0  31000.0        17.0         6.0   \n",
       "995  37.0  0.0            1.0         1.0   3600.0         8.0        15.0   \n",
       "996  40.0  0.0            1.0         0.0   8500.0         8.5         6.0   \n",
       "997  39.0  0.0            1.0         0.0  17500.0        21.0         6.0   \n",
       "998  40.0  0.0            1.0         0.0  26800.0        20.0         5.0   \n",
       "\n",
       "     property  payment  reliable   expense  members           pie  \n",
       "0         0.0   3946.0       0.0  0.438444      1.0   5054.000000  \n",
       "1         0.0   2460.0       1.0  0.182222      2.0   5520.000000  \n",
       "2         0.0   3126.0       0.0  0.446571      2.0   1937.000000  \n",
       "3        41.0   3280.0       1.0  0.321569      1.0   6920.000000  \n",
       "4         0.0   3348.0       1.0  0.393882      3.0   1717.333333  \n",
       "..        ...      ...       ...       ...      ...           ...  \n",
       "994       0.0   4715.0       1.0  0.152097      2.0  13142.500000  \n",
       "995       0.0   2409.0       0.0  0.669167      2.0    595.500000  \n",
       "996      42.0   2460.0       1.0  0.289412      1.0   6040.000000  \n",
       "997       0.0   3331.0       1.0  0.190343      1.0  14169.000000  \n",
       "998      45.0   2614.0       1.0  0.097537      1.0  24186.000000  \n",
       "\n",
       "[999 rows x 13 columns]>"
      ]
     },
     "execution_count": 19,
     "metadata": {},
     "output_type": "execute_result"
    }
   ],
   "source": []
  },
  {
   "cell_type": "markdown",
   "metadata": {},
   "source": [
    "<div class=\"panel panel-info\" style=\"margin: 50px 0 0 0\">\n",
    "    <div class=\"panel-heading\">\n",
    "        <h3 class=\"panel-title\">Задание 4: Время гуглить</h3> \n",
    "    </div>\n",
    "</div>\n",
    "\n",
    "В `pandas` есть функция под названием __`cut()`__, которая позволяет разбить значения признака на группы (или корзины), и присвоить каждой группе свою метку.\n",
    "\n",
    "Например, будет неплохой идеей разбить возраст на возрастные группы: до 18 лет, до 30 лет, до 50, до 99. И сделать новую колонку с соответствующей меткой. Можно, чтобы она была строкой, да.\n",
    "\n",
    "Как раз и вспомнишь, как новый столбец сделать.\n",
    "\n",
    "А потом посмотри на __`.value_counts()`__ этого столбца и сделай мудрые выводы."
   ]
  },
  {
   "cell_type": "code",
   "execution_count": 20,
   "metadata": {},
   "outputs": [],
   "source": [
    "df['groups'] = pd.cut(df.age, [0, 18, 30, 50, 99], labels=['child', 'young', 'adult', 'retired'])"
   ]
  },
  {
   "cell_type": "code",
   "execution_count": 21,
   "metadata": {},
   "outputs": [
    {
     "data": {
      "text/plain": [
       "adult      657\n",
       "young      297\n",
       "retired     45\n",
       "child        0\n",
       "Name: groups, dtype: int64"
      ]
     },
     "execution_count": 21,
     "metadata": {},
     "output_type": "execute_result"
    }
   ],
   "source": [
    "df.groups.value_counts()"
   ]
  },
  {
   "cell_type": "markdown",
   "metadata": {},
   "source": [
    "<div class=\"panel panel-info\" style=\"margin: 50px 0 0 0\">\n",
    "    <div class=\"panel-heading\">\n",
    "        <h3 class=\"panel-title\">Задание 5: Время приключений</h3> \n",
    "    </div>\n",
    "</div>\n",
    "\n",
    "Кто тут data scientist? Ты data scientist!\n",
    "\n",
    "Докажи это! Исследуй данные вдоль и поперек!\n",
    "\n",
    "Группируй с помощью __`.groupby()`__ строки по полу, семейному статусу и всему другому, что приходит в голову, и считай статистики: средние и медианные доходы, квадратные метры и размеры семей. Не забывай учитывать и нашу целевую переменную - благонадежность - и задавать себе вопросы, например, вот такие:\n",
    "\n",
    "- *Правда ли, что чем больше у заемщика семья, тем большую сумму кредита он хочет получить?*\n",
    "- *Правда ли, что мужчины в среднем владеют большей площадью недвижимости?*\n",
    "- *Правда ли, что старшее поколение более надежно в деле выплат?*\n",
    "- *Правда ли, что молодые больше зарабатывают?*\n",
    "\n",
    "Вперед! Не подведи!"
   ]
  },
  {
   "cell_type": "code",
   "execution_count": 30,
   "metadata": {},
   "outputs": [
    {
     "data": {
      "text/plain": [
       "members\n",
       "0.0    4297.385185\n",
       "1.0    4015.338192\n",
       "2.0    4013.359281\n",
       "3.0    4054.828571\n",
       "4.0    4133.783784\n",
       "5.0    4438.300000\n",
       "Name: payment, dtype: float64"
      ]
     },
     "execution_count": 30,
     "metadata": {},
     "output_type": "execute_result"
    }
   ],
   "source": [
    "df.groupby('members').payment.mean()"
   ]
  },
  {
   "cell_type": "code",
   "execution_count": 31,
   "metadata": {},
   "outputs": [
    {
     "data": {
      "text/plain": [
       "sex\n",
       "0.0    14.386819\n",
       "1.0    14.884615\n",
       "Name: property, dtype: float64"
      ]
     },
     "execution_count": 31,
     "metadata": {},
     "output_type": "execute_result"
    }
   ],
   "source": [
    "df.groupby('sex').property.mean()"
   ]
  },
  {
   "cell_type": "code",
   "execution_count": 34,
   "metadata": {},
   "outputs": [
    {
     "data": {
      "text/plain": [
       "groups\n",
       "child           NaN\n",
       "young      0.498316\n",
       "adult      0.473364\n",
       "retired    0.733333\n",
       "Name: reliable, dtype: float64"
      ]
     },
     "execution_count": 34,
     "metadata": {},
     "output_type": "execute_result"
    }
   ],
   "source": [
    "df.groupby('groups').reliable.mean()"
   ]
  },
  {
   "cell_type": "code",
   "execution_count": 48,
   "metadata": {},
   "outputs": [
    {
     "data": {
      "text/plain": [
       "groups\n",
       "child               NaN\n",
       "young      12841.077441\n",
       "adult      13395.585997\n",
       "retired    14924.444444\n",
       "Name: income, dtype: float64"
      ]
     },
     "execution_count": 48,
     "metadata": {},
     "output_type": "execute_result"
    }
   ],
   "source": [
    "df.groupby('groups').income.mean()\n"
   ]
  },
  {
   "cell_type": "code",
   "execution_count": null,
   "metadata": {},
   "outputs": [],
   "source": []
  }
 ],
 "metadata": {
  "kernelspec": {
   "display_name": "Python 3",
   "language": "python",
   "name": "python3"
  },
  "language_info": {
   "codemirror_mode": {
    "name": "ipython",
    "version": 3
   },
   "file_extension": ".py",
   "mimetype": "text/x-python",
   "name": "python",
   "nbconvert_exporter": "python",
   "pygments_lexer": "ipython3",
   "version": "3.7.6"
  },
  "toc": {
   "colors": {
    "hover_highlight": "#DAA520",
    "running_highlight": "#FF0000",
    "selected_highlight": "#FFD700"
   },
   "moveMenuLeft": true,
   "nav_menu": {
    "height": "138px",
    "width": "252px"
   },
   "navigate_menu": true,
   "number_sections": false,
   "sideBar": true,
   "threshold": 4,
   "toc_cell": false,
   "toc_section_display": "block",
   "toc_window_display": false
  }
 },
 "nbformat": 4,
 "nbformat_minor": 4
}
